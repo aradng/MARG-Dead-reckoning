{
 "cells": [
  {
   "cell_type": "code",
   "execution_count": null,
   "metadata": {},
   "outputs": [],
   "source": [
    "\"\"\"\n",
    "PyTeapot module for drawing rotating cube using OpenGL as per\n",
    "quaternion or yaw, pitch, roll angles received over serial port.\n",
    "\"\"\"\n",
    "\n",
    "from pandas.core.arrays.period import dt64arr_to_periodarr\n",
    "from pandas.tseries import frequencies\n",
    "import pygame\n",
    "import math\n",
    "from OpenGL.GL import *\n",
    "from OpenGL.GLU import *\n",
    "from pygame.locals import *\n",
    "\n",
    "import socket\n",
    "import numpy as np\n",
    "import pandas as pd\n",
    "\n",
    "# Define the UDP server's IP address and port to bind to\n",
    "server_ip = \"0.0.0.0\"  # Listen on all available network interfaces\n",
    "server_port = 1234  # Replace with the port you want to use\n",
    "\n",
    "# Create a UDP socket\n",
    "udp_socket = socket.socket(socket.AF_INET, socket.SOCK_DGRAM)\n",
    "# Bind the socket to the server IP and port\n",
    "udp_socket.bind((server_ip, server_port))\n",
    "udp_socket.settimeout(0.5)\n",
    "\n",
    "print(f\"UDP server is listening on {server_ip}:{server_port}\")\n",
    "Q = np.array([1., 0., 0., 0.])\n",
    "ind =  (('gyro', 'x'),\n",
    "        ('gyro', 'y'),\n",
    "        ('gyro', 'z'),\n",
    "        ('accel', 'x'),\n",
    "        ('accel', 'y'),\n",
    "        ('accel', 'z'),\n",
    "        ('mag', 'x'),\n",
    "        ('mag', 'y'),\n",
    "        ('mag', 'z'))\n",
    "calib = pd.Series(np.zeros(9), index=ind)\n",
    "\n",
    "def read_data():\n",
    "    data, client_address = udp_socket.recvfrom(3000)  # Adjust the buffer size as needed\n",
    "    gyro = []\n",
    "    accel = []\n",
    "    mag = []\n",
    "    data = data.decode('utf-8').splitlines()\n",
    "    # print(len(data))\n",
    "    try:\n",
    "        for i in data:\n",
    "            i = i.split(',')\n",
    "            accel.append([float(i[0]), float(i[1]), float(i[2])])\n",
    "            gyro.append([float(i[3]), float(i[4]), float(i[5])])\n",
    "            mag.append([float(i[6]), float(i[7]), float(i[8])])\n",
    "    except Exception as e:\n",
    "        print(\"Error in reading data\")\n",
    "        print(i)\n",
    "        print(data)\n",
    "        print(len(data))\n",
    "        raise e\n",
    "    gyro = pd.DataFrame(gyro, columns=['x', 'y', 'z'])\n",
    "    accel = pd.DataFrame(accel, columns=['x', 'y', 'z'])\n",
    "    mag = pd.DataFrame(mag, columns=['x', 'y', 'z'])\n",
    "    return pd.concat([gyro, accel, mag], keys=['gyro', 'accel', 'mag'], axis=1)\n",
    "\n",
    "def calibrate(n_samples=200):\n",
    "    df = pd.DataFrame()\n",
    "    for i in range(n_samples):\n",
    "        df = pd.concat([df, read_data()], ignore_index=True)\n",
    "        if i % (n_samples/10) == 0:\n",
    "            print(f\"calibrating gyro... {i}/{n_samples}\")\n",
    "    gyro_calib = df['gyro'].mean()\n",
    "    df = pd.DataFrame()\n",
    "    for i in range(n_samples):\n",
    "        df = pd.concat([df, read_data()], ignore_index=True)\n",
    "        if i % (n_samples/10) == 0:\n",
    "            print(f\"calibrating gyro... {i}/{n_samples}\")\n",
    "    \n",
    "    df['accel'] = np.array([0, 0, 0])\n",
    "    df['mag'] = np.array([0, 0, 0])\n",
    "    return df"
   ]
  },
  {
   "cell_type": "code",
   "execution_count": null,
   "metadata": {},
   "outputs": [],
   "source": [
    "n_samples = 20000\n",
    "df = pd.DataFrame()\n",
    "for i in range(n_samples):\n",
    "    df = pd.concat([df, read_data()], ignore_index=True)\n",
    "    if i % (n_samples/10) == 0:\n",
    "        print(f\"gathering data ... {i}/{n_samples}\")\n",
    "df"
   ]
  },
  {
   "cell_type": "code",
   "execution_count": null,
   "metadata": {},
   "outputs": [],
   "source": [
    "df_mag = df['mag'].drop_duplicates().reset_index(drop=True)\n",
    "df_mag"
   ]
  },
  {
   "cell_type": "code",
   "execution_count": null,
   "metadata": {},
   "outputs": [],
   "source": [
    "(df_mag.max() - df_mag.min())/2"
   ]
  },
  {
   "cell_type": "code",
   "execution_count": null,
   "metadata": {},
   "outputs": [],
   "source": [
    "# save to text with \\t as delim\n",
    "df_mag.to_csv('mag.txt', sep='\\t', index=False, header=False)"
   ]
  }
 ],
 "metadata": {
  "kernelspec": {
   "display_name": "Python 3",
   "language": "python",
   "name": "python3"
  },
  "language_info": {
   "codemirror_mode": {
    "name": "ipython",
    "version": 3
   },
   "file_extension": ".py",
   "mimetype": "text/x-python",
   "name": "python",
   "nbconvert_exporter": "python",
   "pygments_lexer": "ipython3",
   "version": "3.9.12"
  }
 },
 "nbformat": 4,
 "nbformat_minor": 2
}
